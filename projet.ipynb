{
 "cells": [
  {
   "cell_type": "code",
   "execution_count": null,
   "metadata": {},
   "outputs": [],
   "source": [
    "import numpy as np\n",
    "import pandas as pd\n",
    "import matplotlib.pyplot as plt\n",
    "from sklearn.datasets import make_moons, make_circles, make_blobs"
   ]
  },
  {
   "cell_type": "code",
   "execution_count": null,
   "metadata": {},
   "outputs": [],
   "source": [
    "# jeux de données\n",
    "datasets = [\n",
    "    make_moons(noise=0.3, random_state=0),\n",
    "    make_circles(noise=0.2, factor=0.5, random_state=1),\n",
    "    make_blobs(n_samples=100, centers=2, n_features=2, center_box=(0, 20), random_state=0)\n",
    "]"
   ]
  },
  {
   "cell_type": "code",
   "execution_count": null,
   "metadata": {},
   "outputs": [],
   "source": [
    "# Classe pour l'arbre de décision\n",
    "class ArbreDeDecision:\n",
    "    def __init__(self, critere='gini'):\n",
    "        self.critere = critere\n",
    "        self.arbre = None\n",
    "\n",
    "    def valider_entre(self, X, y):\n",
    "        if X.size == 0 or y.size == 0:\n",
    "            raise ValueError(\"Les données X ou y ne peuvent pas être vides.\")\n",
    "        if len(X) != len(y):\n",
    "            raise ValueError(\"X et y doivent avoir la même longueur.\")\n",
    "        \n",
    "    def calculer_impurete(self, comptages):\n",
    "        total = sum(comptages)\n",
    "        if self.critere == 'gini':\n",
    "            impurete = 1 - sum((compte / total) ** 2 for compte in comptages)\n",
    "        elif self.critere == 'entropie':\n",
    "            impurete = -sum((compte / total) * np.log2(compte / total) if compte != 0 else 0 for compte in comptages)\n",
    "        else:\n",
    "            raise ValueError(\"Critère invalide. Choisissez 'gini' ou 'entropie'.\")\n",
    "        return impurete\n",
    "    \n",
    "    def diviser_jeu_de_donnees(self, X, y, indice_caracteristique, seuil):\n",
    "        indices_gauche = np.where(X[:, indice_caracteristique] <= seuil)[0]\n",
    "        indices_droite = np.where(X[:, indice_caracteristique] > seuil)[0]\n",
    "        X_gauche, y_gauche = X[indices_gauche], y[indices_gauche]\n",
    "        X_droite, y_droite = X[indices_droite], y[indices_droite]\n",
    "        return X_gauche, y_gauche, X_droite, y_droite\n",
    "\n"
   ]
  }
 ],
 "metadata": {
  "kernelspec": {
   "display_name": "base",
   "language": "python",
   "name": "python3"
  },
  "language_info": {
   "codemirror_mode": {
    "name": "ipython",
    "version": 3
   },
   "file_extension": ".py",
   "mimetype": "text/x-python",
   "name": "python",
   "nbconvert_exporter": "python",
   "pygments_lexer": "ipython3",
   "version": "3.12.4"
  }
 },
 "nbformat": 4,
 "nbformat_minor": 2
}
